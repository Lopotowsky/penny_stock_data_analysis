{
 "cells": [
  {
   "cell_type": "code",
   "execution_count": 2,
   "metadata": {},
   "outputs": [],
   "source": [
    "import numpy as np\n",
    "import pandas as pd\n",
    "import requests"
   ]
  },
  {
   "cell_type": "code",
   "execution_count": 28,
   "metadata": {},
   "outputs": [],
   "source": [
    "company_list=[\"VEON\",\"SNDL\"]\n",
    "for Stock_Ticker in company_list:\n",
    "    url = 'https://query1.finance.yahoo.com/v7/finance/download/'+Stock_Ticker+'?period1=848016000&period2=1612396800&interval=1mo&events=history&includeAdjustedClose=true'\n",
    "    r = requests.get(url)\n",
    "    csv_file = \"stock_csv/\" + Stock_Ticker + \".csv\"\n",
    "    with open(csv_file, \"wb\") as outfile:\n",
    "        outfile.write(r.content)"
   ]
  },
  {
   "cell_type": "code",
   "execution_count": 30,
   "metadata": {},
   "outputs": [],
   "source": [
    "all_data=[]\n",
    "for Stock_Ticker in company_list:\n",
    "    csv_file = \"stock_csv/\" + Stock_Ticker + \".csv\"\n",
    "    df=pd.read_csv(csv_file)\n",
    "    df['Stock Ticker']=Stock_Ticker\n",
    "    all_data.append(df)\n",
    "all_penny=pd.concat(all_data)"
   ]
  },
  {
   "cell_type": "code",
   "execution_count": 31,
   "metadata": {},
   "outputs": [],
   "source": [
    "all_penny.to_csv('all_penny_stocks.csv')"
   ]
  },
  {
   "cell_type": "code",
   "execution_count": null,
   "metadata": {},
   "outputs": [],
   "source": []
  }
 ],
 "metadata": {
  "kernelspec": {
   "display_name": "Python 3",
   "language": "python",
   "name": "python3"
  },
  "language_info": {
   "codemirror_mode": {
    "name": "ipython",
    "version": 3
   },
   "file_extension": ".py",
   "mimetype": "text/x-python",
   "name": "python",
   "nbconvert_exporter": "python",
   "pygments_lexer": "ipython3",
   "version": "3.8.5"
  }
 },
 "nbformat": 4,
 "nbformat_minor": 4
}
